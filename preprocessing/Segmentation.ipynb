{
 "cells": [
  {
   "cell_type": "code",
   "execution_count": 11,
   "id": "0b54791c-a1e4-41e3-946d-46d0d2e6d91f",
   "metadata": {},
   "outputs": [],
   "source": [
    "import os\n",
    "os.environ[\"JAVA_HOME\"] = './java/jdk-17.0.7'\n",
    "# os.environ[\"JAVA_HOME\"] = 'java/openjdk-14.0.1.jdk/Contents/Home'\n",
    "\n",
    "import cellprofiler_core.pipeline\n",
    "import cellprofiler_core.preferences\n",
    "import cellprofiler_core.utilities.java\n",
    "import pathlib\n",
    "import numpy as np"
   ]
  },
  {
   "cell_type": "code",
   "execution_count": 12,
   "id": "51047466",
   "metadata": {},
   "outputs": [
    {
     "data": {
      "text/plain": [
       "[0]"
      ]
     },
     "execution_count": 12,
     "metadata": {},
     "output_type": "execute_result"
    }
   ],
   "source": [
    "import sysconfig\n",
    "sysconfig.get_config_vars('Py_ENABLE_SHARED')"
   ]
  },
  {
   "cell_type": "code",
   "execution_count": 13,
   "id": "69516fef-fd26-47ec-b453-820fc14e588c",
   "metadata": {},
   "outputs": [],
   "source": [
    "cellprofiler_core.preferences.set_headless()"
   ]
  },
  {
   "cell_type": "code",
   "execution_count": 14,
   "id": "08f7bbc5-3b42-48a1-8d7d-9cc4a77deacc",
   "metadata": {},
   "outputs": [],
   "source": [
    "cellprofiler_core.utilities.java.start_java()"
   ]
  },
  {
   "cell_type": "code",
   "execution_count": 15,
   "id": "a69c31d1-3e87-480e-90dc-d1ca90c49368",
   "metadata": {},
   "outputs": [],
   "source": [
    "pipeline = cellprofiler_core.pipeline.Pipeline()"
   ]
  },
  {
   "cell_type": "code",
   "execution_count": 16,
   "id": "fc902c2f-8158-40c8-b531-578c11246415",
   "metadata": {},
   "outputs": [
    {
     "data": {
      "text/plain": [
       "array(['file:///n/data1/hms/dbmi/zitnik/lab/users/kel331/microscopyclock/data/raw/test/Plate/1/2023-08-08/16767/TimePoint_1/Plate_A01_s1_w1D9C4D29B-EA08-425C-93DA-7F08E04E1C7E.tif',\n",
       "       'file:///n/data1/hms/dbmi/zitnik/lab/users/kel331/microscopyclock/data/raw/test/Plate/1/2023-08-08/16767/TimePoint_1/Plate_A01_s1_w2DA9037C2-6D79-40DD-8F71-2FB9272C2B37.tif',\n",
       "       'file:///n/data1/hms/dbmi/zitnik/lab/users/kel331/microscopyclock/data/raw/test/Plate/1/2023-08-08/16767/TimePoint_1/Plate_A01_s1_w3A9D4F4AC-0D11-48CF-BA76-63549D368F65.tif',\n",
       "       'file:///n/data1/hms/dbmi/zitnik/lab/users/kel331/microscopyclock/data/raw/test/Plate/1/2023-08-08/16767/TimePoint_1/Plate_A01_s2_w1B1B20A8B-352C-4668-9D74-D4B6B2B4B5A7.tif',\n",
       "       'file:///n/data1/hms/dbmi/zitnik/lab/users/kel331/microscopyclock/data/raw/test/Plate/1/2023-08-08/16767/TimePoint_1/Plate_A01_s2_w2727941D1-B031-471D-B101-4A4CBBDC316E.tif',\n",
       "       'file:///n/data1/hms/dbmi/zitnik/lab/users/kel331/microscopyclock/data/raw/test/Plate/1/2023-08-08/16767/TimePoint_1/Plate_A01_s2_w301CFF354-ED61-4EE4-B47A-B07A7C52A24A.tif',\n",
       "       'file:///n/data1/hms/dbmi/zitnik/lab/users/kel331/microscopyclock/data/raw/test/Plate/1/2023-08-08/16767/TimePoint_1/Plate_A01_s3_w177059A0A-9802-443D-8673-454F3CA112F5.tif',\n",
       "       'file:///n/data1/hms/dbmi/zitnik/lab/users/kel331/microscopyclock/data/raw/test/Plate/1/2023-08-08/16767/TimePoint_1/Plate_A01_s3_w24EB68A89-0199-48CC-AAA6-35EA71471B4D.tif',\n",
       "       'file:///n/data1/hms/dbmi/zitnik/lab/users/kel331/microscopyclock/data/raw/test/Plate/1/2023-08-08/16767/TimePoint_1/Plate_A01_s3_w3F13AC6E3-5A95-4C09-BF17-FE41C7290CB2.tif'],\n",
       "      dtype='<U171')"
      ]
     },
     "execution_count": 16,
     "metadata": {},
     "output_type": "execute_result"
    }
   ],
   "source": [
    "data_dir = '/n/data1/hms/dbmi/zitnik/lab/users/kel331/microscopyclock/data/raw/test/Plate/1/2023-08-08/16767/TimePoint_1'\n",
    "file_list = list(pathlib.Path(data_dir).absolute().glob('*.tif'))\n",
    "file_list_clean = []\n",
    "for f in file_list:\n",
    "    if \"thumb\" not in str(f):\n",
    "        file_list_clean.append(f)\n",
    "files = [file.as_uri() for file in file_list_clean]\n",
    "files_short = np.sort(files)[:9]\n",
    "files_short"
   ]
  },
  {
   "cell_type": "code",
   "execution_count": 17,
   "id": "c13a373d-1612-4419-b9c4-0fc942430a05",
   "metadata": {},
   "outputs": [],
   "source": [
    "pipeline.load(\"segmentation.cppipe\")"
   ]
  },
  {
   "cell_type": "code",
   "execution_count": 18,
   "id": "4e3a9038-e10d-49ff-a95b-b6ab7ea26e00",
   "metadata": {},
   "outputs": [],
   "source": [
    "pipeline.read_file_list(files_short)"
   ]
  },
  {
   "cell_type": "code",
   "execution_count": 19,
   "id": "abfdb393-a846-4893-b7da-e922052ce642",
   "metadata": {},
   "outputs": [],
   "source": [
    "current_dir = pathlib.Path().absolute()\n",
    "cellprofiler_core.preferences.set_default_output_directory(\"/n/data1/hms/dbmi/zitnik/lab/users/kel331/microscopyclock/data/cropped/test/1\")"
   ]
  },
  {
   "cell_type": "code",
   "execution_count": 20,
   "id": "ba9fd5f8-a538-4f32-aa4b-f14dc992e398",
   "metadata": {},
   "outputs": [],
   "source": [
    "output_measurements = pipeline.run()"
   ]
  },
  {
   "cell_type": "code",
   "execution_count": 36,
   "id": "4c5324fe",
   "metadata": {},
   "outputs": [
    {
     "data": {
      "text/plain": [
       "<cellprofiler_core.measurement._measurements.Measurements at 0x7fd728364190>"
      ]
     },
     "execution_count": 36,
     "metadata": {},
     "output_type": "execute_result"
    }
   ],
   "source": [
    "output_measurements"
   ]
  },
  {
   "cell_type": "code",
   "execution_count": 10,
   "id": "369188d0-28fa-4512-9179-edc481793076",
   "metadata": {},
   "outputs": [],
   "source": [
    "import bioformats"
   ]
  },
  {
   "cell_type": "code",
   "execution_count": null,
   "id": "6d34440e",
   "metadata": {},
   "outputs": [],
   "source": []
  }
 ],
 "metadata": {
  "kernelspec": {
   "display_name": "cellprofiler",
   "language": "python",
   "name": "python3"
  },
  "language_info": {
   "codemirror_mode": {
    "name": "ipython",
    "version": 3
   },
   "file_extension": ".py",
   "mimetype": "text/x-python",
   "name": "python",
   "nbconvert_exporter": "python",
   "pygments_lexer": "ipython3",
   "version": "3.10.0"
  }
 },
 "nbformat": 4,
 "nbformat_minor": 5
}
